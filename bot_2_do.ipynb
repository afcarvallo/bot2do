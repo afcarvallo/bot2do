{
 "cells": [
  {
   "cell_type": "code",
   "execution_count": 34,
   "metadata": {},
   "outputs": [],
   "source": [
    "from gensim.models import Word2Vec\n",
    "import pandas as pd\n",
    "import numpy as np\n",
    "import gensim"
   ]
  },
  {
   "cell_type": "code",
   "execution_count": null,
   "metadata": {},
   "outputs": [],
   "source": [
    "class WhatToDoBot():\n",
    "\n",
    "    def init(self,movies_model=None,books_model=None,foods_model=None):\n",
    "        self.movies_model=movies_model\n",
    "        self.books_model=books_model\n",
    "        self.foods_model=foods_model\n",
    "\n",
    "    def process_input(self,input_string,choose):\n",
    "        no_trailing=input_string.strip()\n",
    "        if (choose==\"M\"):\n",
    "            get_representation(self.movies_model,100,no_trailing)\n",
    "        elif(choose==\"B\"):\n",
    "            get_representation(self.books_model,100,no_trailing)\n",
    "\n",
    "        elif(choose==\"F\"):\n",
    "            self.foods_model\n",
    "\n",
    "    def run(self):\n",
    "        while True:\n",
    "            print(\"Hello! This is WhatToDoBot\")\n",
    "            print(\"Im here to recommend you what to do, given your preferences!\")\n",
    "            print(\"Press 1 to exit\")\n",
    "            print(\"-------------------------\")\n",
    "            print(\"What kind of movies do you like?\")\n",
    "            movies=input()\n",
    "            if movies==\"1\":\n",
    "                break\n",
    "            else:\n",
    "                print(\"Thinking....\")\n",
    "                movies_recomendations=self.process_input(movies,\"M\")\n",
    "            print(\"Ok, next question\")\n",
    "            print(\"What kind of books do you like?\")\n",
    "            books=input()\n",
    "            if books==\"1\":\n",
    "                break\n",
    "            else:\n",
    "                print(\"Thinking....\")\n",
    "                books_recomendations=self.process_input(books,\"B\")\n",
    "            print(\"Ok, next question\")\n",
    "            print(\"What kind of food do you like?\")\n",
    "            food=input()\n",
    "            if food==\"1\":\n",
    "                break\n",
    "            else:\n",
    "                print(\"Thinking....\")\n",
    "                food_recomendations=self.process_input(food,\"F\")\n",
    "            print(\"Alright!! This is the result I have come up with:\")\n",
    "            \n",
    "\n",
    "            \n",
    "\n",
    "\n",
    "\n",
    "# define training data\n",
    "\n",
    "# train model\n",
    "# model = Word2Vec(sentences, min_count=1)\n",
    "# # summarize the loaded model\n",
    "# print(model)\n",
    "# # summarize vocabulary\n",
    "# words = list(model.wv.vocab)\n",
    "# print(words)\n",
    "# # access vector for one word\n",
    "# print(model['sentence'])\n",
    "# # save model\n",
    "# model.save('model.bin')\n",
    "# # load model\n",
    "# new_model = Word2Vec.load('model.bin')\n",
    "# print(new_model)\n"
   ]
  },
  {
   "cell_type": "code",
   "execution_count": 2,
   "metadata": {},
   "outputs": [
    {
     "name": "stderr",
     "output_type": "stream",
     "text": [
      "/Library/Frameworks/Python.framework/Versions/3.6/lib/python3.6/site-packages/IPython/core/interactiveshell.py:3020: DtypeWarning: Columns (10) have mixed types. Specify dtype option on import or set low_memory=False.\n",
      "  interactivity=interactivity, compiler=compiler, result=result)\n"
     ]
    }
   ],
   "source": [
    "df_movies = pd.read_csv('data/the-movies-dataset/movies_metadata.csv')\n",
    "df_books = pd.read_csv('data/goodbooks-10k/books.csv')\n",
    "df_food = pd.read_csv('data/food-choices/food_coded.csv')"
   ]
  },
  {
   "cell_type": "code",
   "execution_count": 113,
   "metadata": {},
   "outputs": [
    {
     "data": {
      "text/html": [
       "<div>\n",
       "<style scoped>\n",
       "    .dataframe tbody tr th:only-of-type {\n",
       "        vertical-align: middle;\n",
       "    }\n",
       "\n",
       "    .dataframe tbody tr th {\n",
       "        vertical-align: top;\n",
       "    }\n",
       "\n",
       "    .dataframe thead th {\n",
       "        text-align: right;\n",
       "    }\n",
       "</style>\n",
       "<table border=\"1\" class=\"dataframe\">\n",
       "  <thead>\n",
       "    <tr style=\"text-align: right;\">\n",
       "      <th></th>\n",
       "      <th>id</th>\n",
       "      <th>book_id</th>\n",
       "      <th>best_book_id</th>\n",
       "      <th>work_id</th>\n",
       "      <th>books_count</th>\n",
       "      <th>isbn</th>\n",
       "      <th>isbn13</th>\n",
       "      <th>authors</th>\n",
       "      <th>original_publication_year</th>\n",
       "      <th>original_title</th>\n",
       "      <th>...</th>\n",
       "      <th>ratings_count</th>\n",
       "      <th>work_ratings_count</th>\n",
       "      <th>work_text_reviews_count</th>\n",
       "      <th>ratings_1</th>\n",
       "      <th>ratings_2</th>\n",
       "      <th>ratings_3</th>\n",
       "      <th>ratings_4</th>\n",
       "      <th>ratings_5</th>\n",
       "      <th>image_url</th>\n",
       "      <th>small_image_url</th>\n",
       "    </tr>\n",
       "  </thead>\n",
       "  <tbody>\n",
       "    <tr>\n",
       "      <th>0</th>\n",
       "      <td>1</td>\n",
       "      <td>2767052</td>\n",
       "      <td>2767052</td>\n",
       "      <td>2792775</td>\n",
       "      <td>272</td>\n",
       "      <td>439023483</td>\n",
       "      <td>9.780439e+12</td>\n",
       "      <td>Suzanne Collins</td>\n",
       "      <td>2008.0</td>\n",
       "      <td>The Hunger Games</td>\n",
       "      <td>...</td>\n",
       "      <td>4780653</td>\n",
       "      <td>4942365</td>\n",
       "      <td>155254</td>\n",
       "      <td>66715</td>\n",
       "      <td>127936</td>\n",
       "      <td>560092</td>\n",
       "      <td>1481305</td>\n",
       "      <td>2706317</td>\n",
       "      <td>https://images.gr-assets.com/books/1447303603m...</td>\n",
       "      <td>https://images.gr-assets.com/books/1447303603s...</td>\n",
       "    </tr>\n",
       "    <tr>\n",
       "      <th>1</th>\n",
       "      <td>2</td>\n",
       "      <td>3</td>\n",
       "      <td>3</td>\n",
       "      <td>4640799</td>\n",
       "      <td>491</td>\n",
       "      <td>439554934</td>\n",
       "      <td>9.780440e+12</td>\n",
       "      <td>J.K. Rowling, Mary GrandPré</td>\n",
       "      <td>1997.0</td>\n",
       "      <td>Harry Potter and the Philosopher's Stone</td>\n",
       "      <td>...</td>\n",
       "      <td>4602479</td>\n",
       "      <td>4800065</td>\n",
       "      <td>75867</td>\n",
       "      <td>75504</td>\n",
       "      <td>101676</td>\n",
       "      <td>455024</td>\n",
       "      <td>1156318</td>\n",
       "      <td>3011543</td>\n",
       "      <td>https://images.gr-assets.com/books/1474154022m...</td>\n",
       "      <td>https://images.gr-assets.com/books/1474154022s...</td>\n",
       "    </tr>\n",
       "    <tr>\n",
       "      <th>2</th>\n",
       "      <td>3</td>\n",
       "      <td>41865</td>\n",
       "      <td>41865</td>\n",
       "      <td>3212258</td>\n",
       "      <td>226</td>\n",
       "      <td>316015849</td>\n",
       "      <td>9.780316e+12</td>\n",
       "      <td>Stephenie Meyer</td>\n",
       "      <td>2005.0</td>\n",
       "      <td>Twilight</td>\n",
       "      <td>...</td>\n",
       "      <td>3866839</td>\n",
       "      <td>3916824</td>\n",
       "      <td>95009</td>\n",
       "      <td>456191</td>\n",
       "      <td>436802</td>\n",
       "      <td>793319</td>\n",
       "      <td>875073</td>\n",
       "      <td>1355439</td>\n",
       "      <td>https://images.gr-assets.com/books/1361039443m...</td>\n",
       "      <td>https://images.gr-assets.com/books/1361039443s...</td>\n",
       "    </tr>\n",
       "    <tr>\n",
       "      <th>3</th>\n",
       "      <td>4</td>\n",
       "      <td>2657</td>\n",
       "      <td>2657</td>\n",
       "      <td>3275794</td>\n",
       "      <td>487</td>\n",
       "      <td>61120081</td>\n",
       "      <td>9.780061e+12</td>\n",
       "      <td>Harper Lee</td>\n",
       "      <td>1960.0</td>\n",
       "      <td>To Kill a Mockingbird</td>\n",
       "      <td>...</td>\n",
       "      <td>3198671</td>\n",
       "      <td>3340896</td>\n",
       "      <td>72586</td>\n",
       "      <td>60427</td>\n",
       "      <td>117415</td>\n",
       "      <td>446835</td>\n",
       "      <td>1001952</td>\n",
       "      <td>1714267</td>\n",
       "      <td>https://images.gr-assets.com/books/1361975680m...</td>\n",
       "      <td>https://images.gr-assets.com/books/1361975680s...</td>\n",
       "    </tr>\n",
       "    <tr>\n",
       "      <th>4</th>\n",
       "      <td>5</td>\n",
       "      <td>4671</td>\n",
       "      <td>4671</td>\n",
       "      <td>245494</td>\n",
       "      <td>1356</td>\n",
       "      <td>743273567</td>\n",
       "      <td>9.780743e+12</td>\n",
       "      <td>F. Scott Fitzgerald</td>\n",
       "      <td>1925.0</td>\n",
       "      <td>The Great Gatsby</td>\n",
       "      <td>...</td>\n",
       "      <td>2683664</td>\n",
       "      <td>2773745</td>\n",
       "      <td>51992</td>\n",
       "      <td>86236</td>\n",
       "      <td>197621</td>\n",
       "      <td>606158</td>\n",
       "      <td>936012</td>\n",
       "      <td>947718</td>\n",
       "      <td>https://images.gr-assets.com/books/1490528560m...</td>\n",
       "      <td>https://images.gr-assets.com/books/1490528560s...</td>\n",
       "    </tr>\n",
       "  </tbody>\n",
       "</table>\n",
       "<p>5 rows × 23 columns</p>\n",
       "</div>"
      ],
      "text/plain": [
       "   id  book_id  best_book_id  work_id  books_count       isbn        isbn13  \\\n",
       "0   1  2767052       2767052  2792775          272  439023483  9.780439e+12   \n",
       "1   2        3             3  4640799          491  439554934  9.780440e+12   \n",
       "2   3    41865         41865  3212258          226  316015849  9.780316e+12   \n",
       "3   4     2657          2657  3275794          487   61120081  9.780061e+12   \n",
       "4   5     4671          4671   245494         1356  743273567  9.780743e+12   \n",
       "\n",
       "                       authors  original_publication_year  \\\n",
       "0              Suzanne Collins                     2008.0   \n",
       "1  J.K. Rowling, Mary GrandPré                     1997.0   \n",
       "2              Stephenie Meyer                     2005.0   \n",
       "3                   Harper Lee                     1960.0   \n",
       "4          F. Scott Fitzgerald                     1925.0   \n",
       "\n",
       "                             original_title  \\\n",
       "0                          The Hunger Games   \n",
       "1  Harry Potter and the Philosopher's Stone   \n",
       "2                                  Twilight   \n",
       "3                     To Kill a Mockingbird   \n",
       "4                          The Great Gatsby   \n",
       "\n",
       "                         ...                         ratings_count  \\\n",
       "0                        ...                               4780653   \n",
       "1                        ...                               4602479   \n",
       "2                        ...                               3866839   \n",
       "3                        ...                               3198671   \n",
       "4                        ...                               2683664   \n",
       "\n",
       "  work_ratings_count  work_text_reviews_count  ratings_1  ratings_2  \\\n",
       "0            4942365                   155254      66715     127936   \n",
       "1            4800065                    75867      75504     101676   \n",
       "2            3916824                    95009     456191     436802   \n",
       "3            3340896                    72586      60427     117415   \n",
       "4            2773745                    51992      86236     197621   \n",
       "\n",
       "   ratings_3  ratings_4  ratings_5  \\\n",
       "0     560092    1481305    2706317   \n",
       "1     455024    1156318    3011543   \n",
       "2     793319     875073    1355439   \n",
       "3     446835    1001952    1714267   \n",
       "4     606158     936012     947718   \n",
       "\n",
       "                                           image_url  \\\n",
       "0  https://images.gr-assets.com/books/1447303603m...   \n",
       "1  https://images.gr-assets.com/books/1474154022m...   \n",
       "2  https://images.gr-assets.com/books/1361039443m...   \n",
       "3  https://images.gr-assets.com/books/1361975680m...   \n",
       "4  https://images.gr-assets.com/books/1490528560m...   \n",
       "\n",
       "                                     small_image_url  \n",
       "0  https://images.gr-assets.com/books/1447303603s...  \n",
       "1  https://images.gr-assets.com/books/1474154022s...  \n",
       "2  https://images.gr-assets.com/books/1361039443s...  \n",
       "3  https://images.gr-assets.com/books/1361975680s...  \n",
       "4  https://images.gr-assets.com/books/1490528560s...  \n",
       "\n",
       "[5 rows x 23 columns]"
      ]
     },
     "execution_count": 113,
     "metadata": {},
     "output_type": "execute_result"
    }
   ],
   "source": [
    "df_books.head()"
   ]
  },
  {
   "cell_type": "code",
   "execution_count": 7,
   "metadata": {},
   "outputs": [],
   "source": [
    "overviews = [x.split(' ') if type(x) == str else 'none' for x in list(df_movies['overview'])]\n",
    "\n",
    "book_titles = [x.split(' ') if type(x) == str else 'none' for x in list(df_books['original_title'])]\n",
    "\n",
    "foods_names = [x.split(' ') if type(x) == str else 'none' for x in list(df_food['comfort_food'])]\n",
    "\n",
    "#print(df_food.head())\n",
    "\n",
    "movies_model = Word2Vec(overviews)\n",
    "books_model = Word2Vec(book_titles)\n",
    "foods_model = Word2Vec(foods_names)\n",
    "\n",
    "movies_model.save('movies_model.bin')\n",
    "books_model.save('books_model.bin')\n",
    "foods_model.save('foods_model.bin')"
   ]
  },
  {
   "cell_type": "code",
   "execution_count": 31,
   "metadata": {},
   "outputs": [],
   "source": [
    "def get_representation(model, embedding_dim, text):\n",
    "    result = []\n",
    "   \n",
    "    cumulator = np.zeros(embedding_dim)\n",
    "    \n",
    "    doc_length = 0 \n",
    "    \n",
    "    if type(text) != type(0.656):\n",
    "    \n",
    "        for word in text.split(' '):\n",
    "            if word in model:\n",
    "                cumulator += np.array(model[word])\n",
    "                doc_length +=1\n",
    "\n",
    "        if len(text.split(' ')) > 0:\n",
    "            cumulator = cumulator / doc_length\n",
    "\n",
    "        result.append(cumulator)\n",
    "        \n",
    "    return result"
   ]
  },
  {
   "cell_type": "code",
   "execution_count": 32,
   "metadata": {},
   "outputs": [
    {
     "name": "stderr",
     "output_type": "stream",
     "text": [
      "/Library/Frameworks/Python.framework/Versions/3.6/lib/python3.6/site-packages/ipykernel_launcher.py:11: DeprecationWarning: Call to deprecated `__contains__` (Method will be removed in 4.0.0, use self.wv.__contains__() instead).\n",
      "  # This is added back by InteractiveShellApp.init_path()\n",
      "/Library/Frameworks/Python.framework/Versions/3.6/lib/python3.6/site-packages/ipykernel_launcher.py:16: RuntimeWarning: invalid value encountered in true_divide\n",
      "  app.launch_new_instance()\n",
      "/Library/Frameworks/Python.framework/Versions/3.6/lib/python3.6/site-packages/ipykernel_launcher.py:12: DeprecationWarning: Call to deprecated `__getitem__` (Method will be removed in 4.0.0, use self.wv.__getitem__() instead).\n",
      "  if sys.path[0] == '':\n"
     ]
    }
   ],
   "source": [
    "food_emb = [get_representation(foods_model, 100, x) for x in df_food.comfort_food]\n",
    "movie_emb = [get_representation(movies_model, 100, x) for x in df_movies.overview]\n",
    "book_emb = [get_representation(books_model, 100, x) for x in df_books.original_title]"
   ]
  },
  {
   "cell_type": "code",
   "execution_count": 36,
   "metadata": {},
   "outputs": [],
   "source": [
    "food_dict = {}\n",
    "for index, x in enumerate(food_emb):\n",
    "    food_dict[index] = x\n",
    "\n",
    "movie_dict = {}\n",
    "for index, x in enumerate(movie_emb):\n",
    "    movie_dict[index] = x\n",
    "\n",
    "book_dict = {}\n",
    "for index, x in enumerate(book_emb):\n",
    "    book_dict[index] = x\n",
    "\n",
    "\n"
   ]
  },
  {
   "cell_type": "code",
   "execution_count": 17,
   "metadata": {},
   "outputs": [
    {
     "name": "stderr",
     "output_type": "stream",
     "text": [
      "/Library/Frameworks/Python.framework/Versions/3.6/lib/python3.6/site-packages/ipykernel_launcher.py:1: DeprecationWarning: Call to deprecated `__getitem__` (Method will be removed in 4.0.0, use self.wv.__getitem__() instead).\n",
      "  \"\"\"Entry point for launching an IPython kernel.\n"
     ]
    },
    {
     "data": {
      "text/plain": [
       "100"
      ]
     },
     "execution_count": 17,
     "metadata": {},
     "output_type": "execute_result"
    }
   ],
   "source": [
    "len(books_model['Drama'])"
   ]
  },
  {
   "cell_type": "code",
   "execution_count": 75,
   "metadata": {},
   "outputs": [],
   "source": [
    "food2vec = gensim.models.keyedvectors.Word2VecKeyedVectors(100)\n",
    "\n",
    "keys = []\n",
    "values = []\n",
    "\n",
    "for index, x in enumerate(food_emb):\n",
    "    \n",
    "    try:\n",
    "    \n",
    "        if np.isnan(x[0][0]) != True:\n",
    "            values.append(x[0])\n",
    "            keys.append(index)\n",
    "    \n",
    "    except:\n",
    "        continue\n",
    "\n",
    "food2vec.add(keys, values)\n",
    "\n",
    "\n"
   ]
  },
  {
   "cell_type": "code",
   "execution_count": 99,
   "metadata": {},
   "outputs": [],
   "source": [
    "food2vec.save('food2vec.model')"
   ]
  },
  {
   "cell_type": "code",
   "execution_count": 97,
   "metadata": {},
   "outputs": [
    {
     "data": {
      "text/plain": [
       "'Ice-cream, pizza, chocolate'"
      ]
     },
     "execution_count": 97,
     "metadata": {},
     "output_type": "execute_result"
    }
   ],
   "source": [
    "food_dict_word = {}\n",
    "\n",
    "for index,x in enumerate(df_food['comfort_food']):\n",
    "    food_dict_word[index] = x\n",
    "    \n",
    "food_dict_word[110]"
   ]
  },
  {
   "cell_type": "code",
   "execution_count": 134,
   "metadata": {},
   "outputs": [
    {
     "name": "stdout",
     "output_type": "stream",
     "text": [
      "what kind of food do you like?chocolate\n"
     ]
    },
    {
     "name": "stderr",
     "output_type": "stream",
     "text": [
      "/Library/Frameworks/Python.framework/Versions/3.6/lib/python3.6/site-packages/ipykernel_launcher.py:11: DeprecationWarning: Call to deprecated `__contains__` (Method will be removed in 4.0.0, use self.wv.__contains__() instead).\n",
      "  # This is added back by InteractiveShellApp.init_path()\n",
      "/Library/Frameworks/Python.framework/Versions/3.6/lib/python3.6/site-packages/ipykernel_launcher.py:12: DeprecationWarning: Call to deprecated `__getitem__` (Method will be removed in 4.0.0, use self.wv.__getitem__() instead).\n",
      "  if sys.path[0] == '':\n",
      "/Library/Frameworks/Python.framework/Versions/3.6/lib/python3.6/site-packages/gensim/matutils.py:737: FutureWarning: Conversion of the second argument of issubdtype from `int` to `np.signedinteger` is deprecated. In future, it will be treated as `np.int64 == np.dtype(int).type`.\n",
      "  if np.issubdtype(vec.dtype, np.int):\n"
     ]
    },
    {
     "data": {
      "text/plain": [
       "['Ice-cream, pizza, chocolate',\n",
       " 'Pasta, grandma homemade chocolate cake anything homemade ',\n",
       " 'ice cream, cake, chocolate',\n",
       " 'carrots and ranch, pretzels, dark chocolate ',\n",
       " 'Macaroons, truffles, peanut butter n chocolate ice cream',\n",
       " 'chocolate bar, ice cream, pretzels, potato chips and protein bars.',\n",
       " 'Pizza, soda, chocolate brownie, chicken tikka masala and butter naan ',\n",
       " 'Pizza chocolate chips bagels ice Capps ',\n",
       " 'cookies, hot chocolate, beef jerky',\n",
       " 'Pizza / Wings / Cheesecake']"
      ]
     },
     "execution_count": 134,
     "metadata": {},
     "output_type": "execute_result"
    }
   ],
   "source": [
    "bot_response = input('what kind of food do you like?')\n",
    "\n",
    "\n",
    "rep = get_representation(foods_model, 100,bot_response)[0]\n",
    "\n",
    "topn = 10\n",
    "\n",
    "result = food2vec.similar_by_vector(rep, topn=topn)\n",
    "\n",
    "[food_dict_word[x[0]] for x in result]\n"
   ]
  },
  {
   "cell_type": "code",
   "execution_count": 101,
   "metadata": {},
   "outputs": [],
   "source": [
    "movie2vec = gensim.models.keyedvectors.Word2VecKeyedVectors(100)\n",
    "\n",
    "keys = []\n",
    "values = []\n",
    "\n",
    "for index, x in enumerate(movie_emb):\n",
    "    \n",
    "    try:\n",
    "    \n",
    "        if np.isnan(x[0][0]) != True:\n",
    "            values.append(x[0])\n",
    "            keys.append(index)\n",
    "    \n",
    "    except:\n",
    "        continue\n",
    "\n",
    "movie2vec.add(keys, values)\n",
    "\n"
   ]
  },
  {
   "cell_type": "code",
   "execution_count": 123,
   "metadata": {},
   "outputs": [],
   "source": [
    "book2vec = gensim.models.keyedvectors.Word2VecKeyedVectors(100)\n",
    "\n",
    "keys = []\n",
    "values = []\n",
    "\n",
    "for index, x in enumerate(book_emb):\n",
    "    \n",
    "    try:\n",
    "    \n",
    "        if np.isnan(x[0][0]) != True:\n",
    "            values.append(x[0])\n",
    "            keys.append(index)\n",
    "    \n",
    "    except:\n",
    "        continue\n",
    "\n",
    "book2vec.add(keys, values)"
   ]
  },
  {
   "cell_type": "code",
   "execution_count": 124,
   "metadata": {},
   "outputs": [
    {
     "name": "stderr",
     "output_type": "stream",
     "text": [
      "/Library/Frameworks/Python.framework/Versions/3.6/lib/python3.6/site-packages/ipykernel_launcher.py:11: DeprecationWarning: Call to deprecated `__contains__` (Method will be removed in 4.0.0, use self.wv.__contains__() instead).\n",
      "  # This is added back by InteractiveShellApp.init_path()\n",
      "/Library/Frameworks/Python.framework/Versions/3.6/lib/python3.6/site-packages/ipykernel_launcher.py:12: DeprecationWarning: Call to deprecated `__getitem__` (Method will be removed in 4.0.0, use self.wv.__getitem__() instead).\n",
      "  if sys.path[0] == '':\n",
      "/Library/Frameworks/Python.framework/Versions/3.6/lib/python3.6/site-packages/gensim/matutils.py:737: FutureWarning: Conversion of the second argument of issubdtype from `int` to `np.signedinteger` is deprecated. In future, it will be treated as `np.int64 == np.dtype(int).type`.\n",
      "  if np.issubdtype(vec.dtype, np.int):\n"
     ]
    }
   ],
   "source": [
    "bot_response = input('what kind of movies do you like?')\n",
    "\n",
    "rep = get_representation(movies_model, 100,bot_response)[0]\n",
    "\n",
    "topn = 10\n",
    "\n",
    "result = movie2vec.similar_by_vector(rep, topn=topn)\n",
    "\n",
    "movie_dict_word = {}\n",
    "\n",
    "for index,x in enumerate(df_movies['original_title']):\n",
    "    movie_dict_word[index] = x\n",
    "\n",
    "[movie_dict_word[x[0]] for x in result]"
   ]
  },
  {
   "cell_type": "code",
   "execution_count": null,
   "metadata": {},
   "outputs": [],
   "source": [
    "bot_response = input('what kind of books do you like?')\n",
    "\n",
    "rep = get_representation(books_model, 100,bot_response)[0]\n",
    "\n",
    "topn = 10\n",
    "\n",
    "result = book2vec.similar_by_vector(rep, topn=topn)\n",
    "\n",
    "book_dict_word = {}\n",
    "\n",
    "for index,x in enumerate(df_movies['original_title']):\n",
    "    book_dict_word[index] = x\n",
    "\n",
    "[book_dict_word[x[0]] for x in result]"
   ]
  },
  {
   "cell_type": "code",
   "execution_count": 139,
   "metadata": {},
   "outputs": [
    {
     "name": "stdout",
     "output_type": "stream",
     "text": [
      "Hello! This is WhatToDoBot\n",
      "Im here to recommend you what to do, given your preferences!\n",
      "Press 1 to exit\n",
      "-------------------------\n",
      "what kind of books do you like?fiction and drama\n"
     ]
    },
    {
     "name": "stderr",
     "output_type": "stream",
     "text": [
      "/Library/Frameworks/Python.framework/Versions/3.6/lib/python3.6/site-packages/ipykernel_launcher.py:11: DeprecationWarning: Call to deprecated `__contains__` (Method will be removed in 4.0.0, use self.wv.__contains__() instead).\n",
      "  # This is added back by InteractiveShellApp.init_path()\n",
      "/Library/Frameworks/Python.framework/Versions/3.6/lib/python3.6/site-packages/ipykernel_launcher.py:12: DeprecationWarning: Call to deprecated `__getitem__` (Method will be removed in 4.0.0, use self.wv.__getitem__() instead).\n",
      "  if sys.path[0] == '':\n"
     ]
    },
    {
     "name": "stdout",
     "output_type": "stream",
     "text": [
      "['A Night at the Opera', 'An Alan Smithee Film: Burn, Hollywood, Burn', 'Crossfire', 'A Time to Kill', 'Andre', 'Private Benjamin', 'Diva', 'Lightning Jack', 'Brass Target', 'Porn Star: The Legend of Ron Jeremy']\n",
      "Ok, next question\n",
      "what kind of food do you like?chocolate , salt\n",
      "['Ice-cream, pizza, chocolate', 'Pasta, grandma homemade chocolate cake anything homemade ', 'ice cream, cake, chocolate', 'carrots and ranch, pretzels, dark chocolate ', 'Macaroons, truffles, peanut butter n chocolate ice cream', 'chocolate bar, ice cream, pretzels, potato chips and protein bars.', 'Pizza, soda, chocolate brownie, chicken tikka masala and butter naan ', 'Pizza chocolate chips bagels ice Capps ', 'cookies, hot chocolate, beef jerky', 'Pizza / Wings / Cheesecake']\n",
      "what kind of movies do you like?comedy drama and action\n",
      "['Colpo grosso, grossissimo...anzi probabile', 'Ci vediamo domani', 'Ricky Gervais Live 3: Fame', 'Hellyys', 'Eager', '9/11: The Twin Towers', 'The Wildman of Kentucky: The Mystery of Panther Rock', 'Turn of Faith', 'Vehshi Jatt', \"I'm a Stranger Here Myself\"]\n"
     ]
    }
   ],
   "source": [
    "while True:\n",
    "            print(\"Hello! This is WhatToDoBot\")\n",
    "            print(\"Im here to recommend you what to do, given your preferences!\")\n",
    "            print(\"Press 1 to exit\")\n",
    "            print(\"-------------------------\")\n",
    "            \n",
    "            bot_response = input('what kind of books do you like?')\n",
    "            rep = get_representation(books_model, 100,bot_response)[0]\n",
    "            topn = 10\n",
    "            result = book2vec.similar_by_vector(rep, topn=topn)\n",
    "            book_dict_word = {}\n",
    "            for index,x in enumerate(df_movies['original_title']):\n",
    "                book_dict_word[index] = x\n",
    "            print([book_dict_word[x[0]] for x in result])\n",
    "            \n",
    "            print(\"Ok, next question\")\n",
    "            \n",
    "            food_response = input('what kind of food do you like?')\n",
    "            rep = get_representation(foods_model, 100,food_response)[0]\n",
    "            topn = 10\n",
    "            result = food2vec.similar_by_vector(rep, topn=topn)\n",
    "            print([food_dict_word[x[0]] for x in result])\n",
    "            \n",
    "            bot_response = input('what kind of movies do you like?')\n",
    "            rep = get_representation(movies_model, 100,bot_response)[0]\n",
    "            topn = 10\n",
    "            result = movie2vec.similar_by_vector(rep, topn=topn)\n",
    "            movie_dict_word = {}\n",
    "            for index,x in enumerate(df_movies['original_title']):\n",
    "                movie_dict_word[index] = x\n",
    "\n",
    "            print([movie_dict_word[x[0]] for x in result])  \n",
    "            break \n",
    "            print(\"Alright!! This is the result I have come up with:\")\n",
    "    "
   ]
  },
  {
   "cell_type": "code",
   "execution_count": null,
   "metadata": {},
   "outputs": [],
   "source": []
  }
 ],
 "metadata": {
  "kernelspec": {
   "display_name": "Python 3",
   "language": "python",
   "name": "python3"
  },
  "language_info": {
   "codemirror_mode": {
    "name": "ipython",
    "version": 3
   },
   "file_extension": ".py",
   "mimetype": "text/x-python",
   "name": "python",
   "nbconvert_exporter": "python",
   "pygments_lexer": "ipython3",
   "version": "3.6.0"
  }
 },
 "nbformat": 4,
 "nbformat_minor": 2
}
